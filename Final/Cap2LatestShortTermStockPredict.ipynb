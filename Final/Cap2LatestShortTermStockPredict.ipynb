{
 "cells": [
  {
   "cell_type": "markdown",
   "metadata": {},
   "source": [
    "# Project Titan X-AI Assistant for Stock Investing\n",
    "# AIDI-2005-01 - CAPSTONE TERM II-Final\n",
    "# Team: KENG HIN CHEONG, AU QUANG LOC NGUYEN, CHUTU LI"
   ]
  },
  {
   "cell_type": "markdown",
   "metadata": {
    "colab_type": "text",
    "id": "grGIkI0YqwY6"
   },
   "source": [
    "# *Stock Price Prediction-Short Term*\n",
    "\n"
   ]
  },
  {
   "cell_type": "markdown",
   "metadata": {
    "colab_type": "text",
    "id": "HX-whU4Sq5Sz"
   },
   "source": [
    "## Install pyFTS library"
   ]
  },
  {
   "cell_type": "code",
   "execution_count": 1,
   "metadata": {},
   "outputs": [],
   "source": [
    "#!pip3 install -U git+https://github.com/PYFTS/pyFTS"
   ]
  },
  {
   "cell_type": "markdown",
   "metadata": {
    "colab_type": "text",
    "id": "q6Mjr2HOq-ak"
   },
   "source": [
    "## imports"
   ]
  },
  {
   "cell_type": "code",
   "execution_count": 1,
   "metadata": {
    "colab": {
     "base_uri": "https://localhost:8080/",
     "height": 34
    },
    "colab_type": "code",
    "id": "STYYKCGRPn_-",
    "outputId": "c59e0d4a-ac57-46ff-d172-e703c46ddc34"
   },
   "outputs": [],
   "source": [
    "import warnings\n",
    "warnings.filterwarnings('ignore')\n",
    "\n",
    "import matplotlib.pylab as plt"
   ]
  },
  {
   "cell_type": "markdown",
   "metadata": {},
   "source": [
    "## Getting the data"
   ]
  },
  {
   "cell_type": "code",
   "execution_count": 2,
   "metadata": {},
   "outputs": [],
   "source": [
    "from yahoo_fin import stock_info as si\n",
    "import pandas_datareader.data as web\n",
    "import pandas as pd\n",
    "\n",
    "data = web.get_data_yahoo('aapl','3/3/2018','4/15/2020',)\n",
    "data.reset_index(inplace=True,drop=False)"
   ]
  },
  {
   "cell_type": "code",
   "execution_count": 3,
   "metadata": {},
   "outputs": [
    {
     "data": {
      "text/html": [
       "<div>\n",
       "<style scoped>\n",
       "    .dataframe tbody tr th:only-of-type {\n",
       "        vertical-align: middle;\n",
       "    }\n",
       "\n",
       "    .dataframe tbody tr th {\n",
       "        vertical-align: top;\n",
       "    }\n",
       "\n",
       "    .dataframe thead th {\n",
       "        text-align: right;\n",
       "    }\n",
       "</style>\n",
       "<table border=\"1\" class=\"dataframe\">\n",
       "  <thead>\n",
       "    <tr style=\"text-align: right;\">\n",
       "      <th></th>\n",
       "      <th>Date</th>\n",
       "      <th>High</th>\n",
       "      <th>Low</th>\n",
       "      <th>Open</th>\n",
       "      <th>Close</th>\n",
       "      <th>Volume</th>\n",
       "      <th>Adj Close</th>\n",
       "    </tr>\n",
       "  </thead>\n",
       "  <tbody>\n",
       "    <tr>\n",
       "      <th>0</th>\n",
       "      <td>2018-03-05</td>\n",
       "      <td>177.740005</td>\n",
       "      <td>174.520004</td>\n",
       "      <td>175.210007</td>\n",
       "      <td>176.820007</td>\n",
       "      <td>28401400.0</td>\n",
       "      <td>171.917709</td>\n",
       "    </tr>\n",
       "    <tr>\n",
       "      <th>1</th>\n",
       "      <td>2018-03-06</td>\n",
       "      <td>178.250000</td>\n",
       "      <td>176.130005</td>\n",
       "      <td>177.910004</td>\n",
       "      <td>176.669998</td>\n",
       "      <td>23788500.0</td>\n",
       "      <td>171.771851</td>\n",
       "    </tr>\n",
       "    <tr>\n",
       "      <th>2</th>\n",
       "      <td>2018-03-07</td>\n",
       "      <td>175.850006</td>\n",
       "      <td>174.270004</td>\n",
       "      <td>174.940002</td>\n",
       "      <td>175.029999</td>\n",
       "      <td>31703500.0</td>\n",
       "      <td>170.177322</td>\n",
       "    </tr>\n",
       "    <tr>\n",
       "      <th>3</th>\n",
       "      <td>2018-03-08</td>\n",
       "      <td>177.119995</td>\n",
       "      <td>175.070007</td>\n",
       "      <td>175.479996</td>\n",
       "      <td>176.940002</td>\n",
       "      <td>23774100.0</td>\n",
       "      <td>172.034363</td>\n",
       "    </tr>\n",
       "    <tr>\n",
       "      <th>4</th>\n",
       "      <td>2018-03-09</td>\n",
       "      <td>180.000000</td>\n",
       "      <td>177.389999</td>\n",
       "      <td>177.960007</td>\n",
       "      <td>179.979996</td>\n",
       "      <td>32185200.0</td>\n",
       "      <td>174.990051</td>\n",
       "    </tr>\n",
       "    <tr>\n",
       "      <th>...</th>\n",
       "      <td>...</td>\n",
       "      <td>...</td>\n",
       "      <td>...</td>\n",
       "      <td>...</td>\n",
       "      <td>...</td>\n",
       "      <td>...</td>\n",
       "      <td>...</td>\n",
       "    </tr>\n",
       "    <tr>\n",
       "      <th>528</th>\n",
       "      <td>2020-04-08</td>\n",
       "      <td>267.369995</td>\n",
       "      <td>261.230011</td>\n",
       "      <td>262.739990</td>\n",
       "      <td>266.070007</td>\n",
       "      <td>42223800.0</td>\n",
       "      <td>266.070007</td>\n",
       "    </tr>\n",
       "    <tr>\n",
       "      <th>529</th>\n",
       "      <td>2020-04-09</td>\n",
       "      <td>270.070007</td>\n",
       "      <td>264.700012</td>\n",
       "      <td>268.700012</td>\n",
       "      <td>267.989990</td>\n",
       "      <td>40529100.0</td>\n",
       "      <td>267.989990</td>\n",
       "    </tr>\n",
       "    <tr>\n",
       "      <th>530</th>\n",
       "      <td>2020-04-13</td>\n",
       "      <td>273.700012</td>\n",
       "      <td>265.829987</td>\n",
       "      <td>268.309998</td>\n",
       "      <td>273.250000</td>\n",
       "      <td>32755700.0</td>\n",
       "      <td>273.250000</td>\n",
       "    </tr>\n",
       "    <tr>\n",
       "      <th>531</th>\n",
       "      <td>2020-04-14</td>\n",
       "      <td>288.250000</td>\n",
       "      <td>278.049988</td>\n",
       "      <td>280.000000</td>\n",
       "      <td>287.049988</td>\n",
       "      <td>48748700.0</td>\n",
       "      <td>287.049988</td>\n",
       "    </tr>\n",
       "    <tr>\n",
       "      <th>532</th>\n",
       "      <td>2020-04-15</td>\n",
       "      <td>286.329987</td>\n",
       "      <td>280.630005</td>\n",
       "      <td>282.399994</td>\n",
       "      <td>284.429993</td>\n",
       "      <td>32731400.0</td>\n",
       "      <td>284.429993</td>\n",
       "    </tr>\n",
       "  </tbody>\n",
       "</table>\n",
       "<p>533 rows × 7 columns</p>\n",
       "</div>"
      ],
      "text/plain": [
       "          Date        High         Low        Open       Close      Volume  \\\n",
       "0   2018-03-05  177.740005  174.520004  175.210007  176.820007  28401400.0   \n",
       "1   2018-03-06  178.250000  176.130005  177.910004  176.669998  23788500.0   \n",
       "2   2018-03-07  175.850006  174.270004  174.940002  175.029999  31703500.0   \n",
       "3   2018-03-08  177.119995  175.070007  175.479996  176.940002  23774100.0   \n",
       "4   2018-03-09  180.000000  177.389999  177.960007  179.979996  32185200.0   \n",
       "..         ...         ...         ...         ...         ...         ...   \n",
       "528 2020-04-08  267.369995  261.230011  262.739990  266.070007  42223800.0   \n",
       "529 2020-04-09  270.070007  264.700012  268.700012  267.989990  40529100.0   \n",
       "530 2020-04-13  273.700012  265.829987  268.309998  273.250000  32755700.0   \n",
       "531 2020-04-14  288.250000  278.049988  280.000000  287.049988  48748700.0   \n",
       "532 2020-04-15  286.329987  280.630005  282.399994  284.429993  32731400.0   \n",
       "\n",
       "      Adj Close  \n",
       "0    171.917709  \n",
       "1    171.771851  \n",
       "2    170.177322  \n",
       "3    172.034363  \n",
       "4    174.990051  \n",
       "..          ...  \n",
       "528  266.070007  \n",
       "529  267.989990  \n",
       "530  273.250000  \n",
       "531  287.049988  \n",
       "532  284.429993  \n",
       "\n",
       "[533 rows x 7 columns]"
      ]
     },
     "execution_count": 3,
     "metadata": {},
     "output_type": "execute_result"
    }
   ],
   "source": [
    "data"
   ]
  },
  {
   "cell_type": "markdown",
   "metadata": {},
   "source": [
    "## Data Preprocessing"
   ]
  },
  {
   "cell_type": "markdown",
   "metadata": {},
   "source": [
    "Defining the number of days based on the number of rows"
   ]
  },
  {
   "cell_type": "code",
   "execution_count": 5,
   "metadata": {},
   "outputs": [],
   "source": [
    "data['days'] = range(len(data))"
   ]
  },
  {
   "cell_type": "code",
   "execution_count": 6,
   "metadata": {},
   "outputs": [],
   "source": [
    "data = data.drop(columns= ['Date', 'Close', 'High', 'Low', 'Open', 'Volume'])"
   ]
  },
  {
   "cell_type": "markdown",
   "metadata": {},
   "source": [
    "Using only the ADJ close"
   ]
  },
  {
   "cell_type": "code",
   "execution_count": 7,
   "metadata": {},
   "outputs": [
    {
     "data": {
      "text/html": [
       "<div>\n",
       "<style scoped>\n",
       "    .dataframe tbody tr th:only-of-type {\n",
       "        vertical-align: middle;\n",
       "    }\n",
       "\n",
       "    .dataframe tbody tr th {\n",
       "        vertical-align: top;\n",
       "    }\n",
       "\n",
       "    .dataframe thead th {\n",
       "        text-align: right;\n",
       "    }\n",
       "</style>\n",
       "<table border=\"1\" class=\"dataframe\">\n",
       "  <thead>\n",
       "    <tr style=\"text-align: right;\">\n",
       "      <th></th>\n",
       "      <th>Adj Close</th>\n",
       "      <th>days</th>\n",
       "    </tr>\n",
       "  </thead>\n",
       "  <tbody>\n",
       "    <tr>\n",
       "      <th>0</th>\n",
       "      <td>171.917709</td>\n",
       "      <td>0</td>\n",
       "    </tr>\n",
       "    <tr>\n",
       "      <th>1</th>\n",
       "      <td>171.771851</td>\n",
       "      <td>1</td>\n",
       "    </tr>\n",
       "    <tr>\n",
       "      <th>2</th>\n",
       "      <td>170.177322</td>\n",
       "      <td>2</td>\n",
       "    </tr>\n",
       "    <tr>\n",
       "      <th>3</th>\n",
       "      <td>172.034363</td>\n",
       "      <td>3</td>\n",
       "    </tr>\n",
       "    <tr>\n",
       "      <th>4</th>\n",
       "      <td>174.990051</td>\n",
       "      <td>4</td>\n",
       "    </tr>\n",
       "    <tr>\n",
       "      <th>...</th>\n",
       "      <td>...</td>\n",
       "      <td>...</td>\n",
       "    </tr>\n",
       "    <tr>\n",
       "      <th>527</th>\n",
       "      <td>259.429993</td>\n",
       "      <td>527</td>\n",
       "    </tr>\n",
       "    <tr>\n",
       "      <th>528</th>\n",
       "      <td>266.070007</td>\n",
       "      <td>528</td>\n",
       "    </tr>\n",
       "    <tr>\n",
       "      <th>529</th>\n",
       "      <td>267.989990</td>\n",
       "      <td>529</td>\n",
       "    </tr>\n",
       "    <tr>\n",
       "      <th>530</th>\n",
       "      <td>273.250000</td>\n",
       "      <td>530</td>\n",
       "    </tr>\n",
       "    <tr>\n",
       "      <th>531</th>\n",
       "      <td>287.049988</td>\n",
       "      <td>531</td>\n",
       "    </tr>\n",
       "  </tbody>\n",
       "</table>\n",
       "<p>532 rows × 2 columns</p>\n",
       "</div>"
      ],
      "text/plain": [
       "      Adj Close  days\n",
       "0    171.917709     0\n",
       "1    171.771851     1\n",
       "2    170.177322     2\n",
       "3    172.034363     3\n",
       "4    174.990051     4\n",
       "..          ...   ...\n",
       "527  259.429993   527\n",
       "528  266.070007   528\n",
       "529  267.989990   529\n",
       "530  273.250000   530\n",
       "531  287.049988   531\n",
       "\n",
       "[532 rows x 2 columns]"
      ]
     },
     "execution_count": 7,
     "metadata": {},
     "output_type": "execute_result"
    }
   ],
   "source": [
    "data"
   ]
  },
  {
   "cell_type": "markdown",
   "metadata": {},
   "source": [
    "How the time serie looks"
   ]
  },
  {
   "cell_type": "code",
   "execution_count": 8,
   "metadata": {},
   "outputs": [
    {
     "data": {
      "image/png": "[encoded data removed]",
      "text/plain": [
       "<Figure size 720x360 with 1 Axes>"
      ]
     },
     "metadata": {
      "needs_background": "light"
     },
     "output_type": "display_data"
    }
   ],
   "source": [
    "fig, ax = plt.subplots(nrows=1, ncols=1, figsize=[10,5])\n",
    "plt.plot(data['days'],data['Adj Close'])\n",
    "data = data['Adj Close'].values"
   ]
  },
  {
   "cell_type": "markdown",
   "metadata": {},
   "source": [
    "## 1. Definition of the Universe of Discourse U\n",
    "First we need to know the universe of discourse U from the training data, such as U = [min(X), max(X)]"
   ]
  },
  {
   "cell_type": "markdown",
   "metadata": {},
   "source": [
    "## 2. Create the Linguistic Variable Ã (Universe of Discourse Partitioning)\n",
    "Now we need to split U on several overlapping intervals (a.k.a partitions) and create a fuzzy set for each one of them"
   ]
  },
  {
   "cell_type": "markdown",
   "metadata": {},
   "source": [
    "### Visualization of the fuzzy sets of the linguistic variable Adj Close"
   ]
  },
  {
   "cell_type": "markdown",
   "metadata": {},
   "source": [
    "For this training I am using a 10 partitions scheme"
   ]
  },
  {
   "cell_type": "markdown",
   "metadata": {},
   "source": [
    "linguistic variable be Ã = { A0, A1, …, A9 }."
   ]
  },
  {
   "cell_type": "code",
   "execution_count": 9,
   "metadata": {},
   "outputs": [
    {
     "data": {
      "image/png": "[encoded data removed]",
      "text/plain": [
       "<Figure size 1080x360 with 1 Axes>"
      ]
     },
     "metadata": {
      "needs_background": "light"
     },
     "output_type": "display_data"
    }
   ],
   "source": [
    "from pyFTS.partitioners import Grid\n",
    "\n",
    "fs = Grid.GridPartitioner(data=data, npart=10)\n",
    "\n",
    "fig, ax = plt.subplots(nrows=1, ncols=1, figsize=[15,5])\n",
    "\n",
    "fs.plot(ax)"
   ]
  },
  {
   "cell_type": "markdown",
   "metadata": {},
   "source": [
    "## 3. Fuzzyfication\n",
    "Now we can convert the numerical values of X(t) into fuzzy values of the linguistic variable Ã,"
   ]
  },
  {
   "cell_type": "code",
   "execution_count": 10,
   "metadata": {},
   "outputs": [
    {
     "data": {
      "text/plain": [
       "['A2',\n",
       " 'A2',\n",
       " 'A2',\n",
       " 'A2',\n",
       " 'A2',\n",
       " 'A2',\n",
       " 'A2',\n",
       " 'A2',\n",
       " 'A2',\n",
       " 'A2',\n",
       " 'A2',\n",
       " 'A2',\n",
       " 'A2',\n",
       " 'A2',\n",
       " 'A1',\n",
       " 'A2',\n",
       " 'A2',\n",
       " 'A2',\n",
       " 'A2',\n",
       " 'A2',\n",
       " 'A2',\n",
       " 'A2',\n",
       " 'A2',\n",
       " 'A2',\n",
       " 'A2',\n",
       " 'A2',\n",
       " 'A2',\n",
       " 'A2',\n",
       " 'A2',\n",
       " 'A2',\n",
       " 'A2',\n",
       " 'A2',\n",
       " 'A2',\n",
       " 'A2',\n",
       " 'A1',\n",
       " 'A1',\n",
       " 'A1',\n",
       " 'A1',\n",
       " 'A1',\n",
       " 'A1',\n",
       " 'A2',\n",
       " 'A2',\n",
       " 'A2',\n",
       " 'A2',\n",
       " 'A2',\n",
       " 'A2',\n",
       " 'A2',\n",
       " 'A3',\n",
       " 'A2',\n",
       " 'A2',\n",
       " 'A2',\n",
       " 'A2',\n",
       " 'A2',\n",
       " 'A2',\n",
       " 'A2',\n",
       " 'A2',\n",
       " 'A2',\n",
       " 'A2',\n",
       " 'A2',\n",
       " 'A2',\n",
       " 'A2',\n",
       " 'A2',\n",
       " 'A3',\n",
       " 'A3',\n",
       " 'A3',\n",
       " 'A3',\n",
       " 'A3',\n",
       " 'A3',\n",
       " 'A3',\n",
       " 'A3',\n",
       " 'A3',\n",
       " 'A3',\n",
       " 'A2',\n",
       " 'A2',\n",
       " 'A2',\n",
       " 'A2',\n",
       " 'A2',\n",
       " 'A2',\n",
       " 'A2',\n",
       " 'A2',\n",
       " 'A2',\n",
       " 'A2',\n",
       " 'A2',\n",
       " 'A2',\n",
       " 'A2',\n",
       " 'A2',\n",
       " 'A2',\n",
       " 'A3',\n",
       " 'A3',\n",
       " 'A2',\n",
       " 'A3',\n",
       " 'A3',\n",
       " 'A3',\n",
       " 'A3',\n",
       " 'A3',\n",
       " 'A3',\n",
       " 'A3',\n",
       " 'A3',\n",
       " 'A3',\n",
       " 'A3',\n",
       " 'A3',\n",
       " 'A3',\n",
       " 'A3',\n",
       " 'A3',\n",
       " 'A3',\n",
       " 'A3',\n",
       " 'A3',\n",
       " 'A3',\n",
       " 'A3',\n",
       " 'A3',\n",
       " 'A3',\n",
       " 'A3',\n",
       " 'A3',\n",
       " 'A3',\n",
       " 'A3',\n",
       " 'A4',\n",
       " 'A4',\n",
       " 'A4',\n",
       " 'A4',\n",
       " 'A4',\n",
       " 'A4',\n",
       " 'A4',\n",
       " 'A4',\n",
       " 'A4',\n",
       " 'A4',\n",
       " 'A4',\n",
       " 'A4',\n",
       " 'A4',\n",
       " 'A4',\n",
       " 'A4',\n",
       " 'A4',\n",
       " 'A4',\n",
       " 'A4',\n",
       " 'A4',\n",
       " 'A4',\n",
       " 'A4',\n",
       " 'A4',\n",
       " 'A4',\n",
       " 'A4',\n",
       " 'A4',\n",
       " 'A4',\n",
       " 'A4',\n",
       " 'A4',\n",
       " 'A4',\n",
       " 'A4',\n",
       " 'A4',\n",
       " 'A4',\n",
       " 'A4',\n",
       " 'A4',\n",
       " 'A4',\n",
       " 'A4',\n",
       " 'A4',\n",
       " 'A4',\n",
       " 'A4',\n",
       " 'A4',\n",
       " 'A4',\n",
       " 'A4',\n",
       " 'A4',\n",
       " 'A4',\n",
       " 'A4',\n",
       " 'A4',\n",
       " 'A4',\n",
       " 'A4',\n",
       " 'A4',\n",
       " 'A4',\n",
       " 'A4',\n",
       " 'A4',\n",
       " 'A4',\n",
       " 'A4',\n",
       " 'A4',\n",
       " 'A3',\n",
       " 'A3',\n",
       " 'A3',\n",
       " 'A3',\n",
       " 'A3',\n",
       " 'A3',\n",
       " 'A3',\n",
       " 'A3',\n",
       " 'A2',\n",
       " 'A3',\n",
       " 'A3',\n",
       " 'A2',\n",
       " 'A2',\n",
       " 'A2',\n",
       " 'A2',\n",
       " 'A2',\n",
       " 'A2',\n",
       " 'A2',\n",
       " 'A2',\n",
       " 'A2',\n",
       " 'A2',\n",
       " 'A2',\n",
       " 'A2',\n",
       " 'A2',\n",
       " 'A2',\n",
       " 'A2',\n",
       " 'A2',\n",
       " 'A2',\n",
       " 'A2',\n",
       " 'A2',\n",
       " 'A2',\n",
       " 'A1',\n",
       " 'A1',\n",
       " 'A1',\n",
       " 'A1',\n",
       " 'A1',\n",
       " 'A1',\n",
       " 'A1',\n",
       " 'A1',\n",
       " 'A1',\n",
       " 'A1',\n",
       " 'A1',\n",
       " 'A1',\n",
       " 'A1',\n",
       " 'A1',\n",
       " 'A1',\n",
       " 'A1',\n",
       " 'A1',\n",
       " 'A1',\n",
       " 'A1',\n",
       " 'A1',\n",
       " 'A1',\n",
       " 'A1',\n",
       " 'A1',\n",
       " 'A1',\n",
       " 'A1',\n",
       " 'A1',\n",
       " 'A1',\n",
       " 'A2',\n",
       " 'A2',\n",
       " 'A2',\n",
       " 'A2',\n",
       " 'A2',\n",
       " 'A2',\n",
       " 'A2',\n",
       " 'A2',\n",
       " 'A2',\n",
       " 'A2',\n",
       " 'A2',\n",
       " 'A2',\n",
       " 'A2',\n",
       " 'A2',\n",
       " 'A2',\n",
       " 'A2',\n",
       " 'A2',\n",
       " 'A2',\n",
       " 'A2',\n",
       " 'A2',\n",
       " 'A2',\n",
       " 'A2',\n",
       " 'A2',\n",
       " 'A2',\n",
       " 'A2',\n",
       " 'A2',\n",
       " 'A2',\n",
       " 'A2',\n",
       " 'A2',\n",
       " 'A2',\n",
       " 'A2',\n",
       " 'A2',\n",
       " 'A3',\n",
       " 'A2',\n",
       " 'A3',\n",
       " 'A3',\n",
       " 'A3',\n",
       " 'A3',\n",
       " 'A3',\n",
       " 'A3',\n",
       " 'A3',\n",
       " 'A3',\n",
       " 'A3',\n",
       " 'A3',\n",
       " 'A3',\n",
       " 'A3',\n",
       " 'A3',\n",
       " 'A3',\n",
       " 'A3',\n",
       " 'A3',\n",
       " 'A3',\n",
       " 'A3',\n",
       " 'A3',\n",
       " 'A3',\n",
       " 'A3',\n",
       " 'A3',\n",
       " 'A3',\n",
       " 'A3',\n",
       " 'A3',\n",
       " 'A3',\n",
       " 'A3',\n",
       " 'A3',\n",
       " 'A3',\n",
       " 'A4',\n",
       " 'A3',\n",
       " 'A4',\n",
       " 'A3',\n",
       " 'A3',\n",
       " 'A3',\n",
       " 'A3',\n",
       " 'A3',\n",
       " 'A2',\n",
       " 'A3',\n",
       " 'A3',\n",
       " 'A3',\n",
       " 'A3',\n",
       " 'A2',\n",
       " 'A3',\n",
       " 'A2',\n",
       " 'A2',\n",
       " 'A2',\n",
       " 'A2',\n",
       " 'A2',\n",
       " 'A2',\n",
       " 'A2',\n",
       " 'A2',\n",
       " 'A2',\n",
       " 'A2',\n",
       " 'A2',\n",
       " 'A3',\n",
       " 'A3',\n",
       " 'A3',\n",
       " 'A3',\n",
       " 'A3',\n",
       " 'A3',\n",
       " 'A3',\n",
       " 'A3',\n",
       " 'A3',\n",
       " 'A3',\n",
       " 'A3',\n",
       " 'A3',\n",
       " 'A3',\n",
       " 'A3',\n",
       " 'A3',\n",
       " 'A3',\n",
       " 'A3',\n",
       " 'A3',\n",
       " 'A3',\n",
       " 'A3',\n",
       " 'A3',\n",
       " 'A3',\n",
       " 'A3',\n",
       " 'A3',\n",
       " 'A3',\n",
       " 'A3',\n",
       " 'A3',\n",
       " 'A3',\n",
       " 'A3',\n",
       " 'A3',\n",
       " 'A3',\n",
       " 'A3',\n",
       " 'A3',\n",
       " 'A3',\n",
       " 'A3',\n",
       " 'A4',\n",
       " 'A3',\n",
       " 'A4',\n",
       " 'A3',\n",
       " 'A3',\n",
       " 'A3',\n",
       " 'A3',\n",
       " 'A3',\n",
       " 'A3',\n",
       " 'A3',\n",
       " 'A3',\n",
       " 'A4',\n",
       " 'A3',\n",
       " 'A3',\n",
       " 'A3',\n",
       " 'A4',\n",
       " 'A4',\n",
       " 'A4',\n",
       " 'A4',\n",
       " 'A3',\n",
       " 'A3',\n",
       " 'A3',\n",
       " 'A3',\n",
       " 'A4',\n",
       " 'A3',\n",
       " 'A3',\n",
       " 'A4',\n",
       " 'A4',\n",
       " 'A4',\n",
       " 'A4',\n",
       " 'A4',\n",
       " 'A4',\n",
       " 'A4',\n",
       " 'A4',\n",
       " 'A4',\n",
       " 'A4',\n",
       " 'A4',\n",
       " 'A4',\n",
       " 'A4',\n",
       " 'A4',\n",
       " 'A4',\n",
       " 'A4',\n",
       " 'A4',\n",
       " 'A4',\n",
       " 'A4',\n",
       " 'A4',\n",
       " 'A4',\n",
       " 'A4',\n",
       " 'A4',\n",
       " 'A4',\n",
       " 'A4',\n",
       " 'A4',\n",
       " 'A4',\n",
       " 'A5',\n",
       " 'A5',\n",
       " 'A5',\n",
       " 'A5',\n",
       " 'A5',\n",
       " 'A5',\n",
       " 'A5',\n",
       " 'A5',\n",
       " 'A5',\n",
       " 'A5',\n",
       " 'A5',\n",
       " 'A5',\n",
       " 'A5',\n",
       " 'A5',\n",
       " 'A5',\n",
       " 'A5',\n",
       " 'A6',\n",
       " 'A6',\n",
       " 'A6',\n",
       " 'A6',\n",
       " 'A6',\n",
       " 'A6',\n",
       " 'A6',\n",
       " 'A6',\n",
       " 'A6',\n",
       " 'A6',\n",
       " 'A6',\n",
       " 'A6',\n",
       " 'A6',\n",
       " 'A6',\n",
       " 'A6',\n",
       " 'A6',\n",
       " 'A6',\n",
       " 'A6',\n",
       " 'A6',\n",
       " 'A6',\n",
       " 'A6',\n",
       " 'A6',\n",
       " 'A6',\n",
       " 'A6',\n",
       " 'A6',\n",
       " 'A6',\n",
       " 'A6',\n",
       " 'A6',\n",
       " 'A6',\n",
       " 'A7',\n",
       " 'A7',\n",
       " 'A7',\n",
       " 'A7',\n",
       " 'A7',\n",
       " 'A7',\n",
       " 'A7',\n",
       " 'A7',\n",
       " 'A7',\n",
       " 'A7',\n",
       " 'A7',\n",
       " 'A7',\n",
       " 'A7',\n",
       " 'A7',\n",
       " 'A7',\n",
       " 'A8',\n",
       " 'A8',\n",
       " 'A8',\n",
       " 'A8',\n",
       " 'A8',\n",
       " 'A8',\n",
       " 'A8',\n",
       " 'A8',\n",
       " 'A8',\n",
       " 'A8',\n",
       " 'A8',\n",
       " 'A8',\n",
       " 'A8',\n",
       " 'A8',\n",
       " 'A8',\n",
       " 'A8',\n",
       " 'A8',\n",
       " 'A8',\n",
       " 'A8',\n",
       " 'A8',\n",
       " 'A8',\n",
       " 'A8',\n",
       " 'A8',\n",
       " 'A8',\n",
       " 'A9',\n",
       " 'A9',\n",
       " 'A9',\n",
       " 'A8',\n",
       " 'A8',\n",
       " 'A8',\n",
       " 'A8',\n",
       " 'A7',\n",
       " 'A7',\n",
       " 'A7',\n",
       " 'A6',\n",
       " 'A6',\n",
       " 'A7',\n",
       " 'A7',\n",
       " 'A8',\n",
       " 'A7',\n",
       " 'A7',\n",
       " 'A6',\n",
       " 'A7',\n",
       " 'A6',\n",
       " 'A5',\n",
       " 'A6',\n",
       " 'A5',\n",
       " 'A5',\n",
       " 'A5',\n",
       " 'A5',\n",
       " 'A4',\n",
       " 'A4',\n",
       " 'A5',\n",
       " 'A5',\n",
       " 'A6',\n",
       " 'A5',\n",
       " 'A6',\n",
       " 'A5',\n",
       " 'A5',\n",
       " 'A5',\n",
       " 'A5',\n",
       " 'A6',\n",
       " 'A6',\n",
       " 'A6',\n",
       " 'A6',\n",
       " 'A6',\n",
       " 'A7']"
      ]
     },
     "execution_count": 10,
     "metadata": {},
     "output_type": "execute_result"
    }
   ],
   "source": [
    "# Using the method maximum, just the maximum membership fuzzy set is choosen.\n",
    "#However in other FTS methods all fuzzyfied values are considered.\n",
    "fuzzyfied = fs.fuzzyfy(data, method='maximum', mode='sets')\n",
    "fuzzyfied"
   ]
  },
  {
   "cell_type": "markdown",
   "metadata": {},
   "source": [
    "## 4. Creating the temporal patterns\n",
    "A temporal patterns indicates two fuzzy sets that appear sequentially on fuzzy time series F(t) and have the format Precedent →Consequent"
   ]
  },
  {
   "cell_type": "code",
   "execution_count": 11,
   "metadata": {},
   "outputs": [
    {
     "name": "stdout",
     "output_type": "stream",
     "text": [
      "['A2 -> A2', 'A2 -> A1', 'A1 -> A2', 'A1 -> A1', 'A2 -> A3', 'A3 -> A2', 'A3 -> A3', 'A3 -> A4', 'A4 -> A4', 'A4 -> A3', 'A4 -> A5', 'A5 -> A5', 'A5 -> A6', 'A6 -> A6', 'A6 -> A7', 'A7 -> A7', 'A7 -> A8', 'A8 -> A8', 'A8 -> A9', 'A9 -> A9', 'A9 -> A8', 'A8 -> A7', 'A7 -> A6', 'A6 -> A5', 'A5 -> A4']\n"
     ]
    }
   ],
   "source": [
    "#This entire process runs automatically within the fit function, which trains the model.\n",
    "\n",
    "from pyFTS.common import FLR\n",
    "\n",
    "#Using the library to show the patterns\n",
    "patterns = FLR.generate_non_recurrent_flrs(fuzzyfied)\n",
    "\n",
    "print([str(k) for k in patterns])"
   ]
  },
  {
   "cell_type": "markdown",
   "metadata": {},
   "source": [
    "## 5. Rule generation\n",
    "Our model rules also have the format Precedent →Consequent. Given the previously generated temporal patterns we will group them by its precedents"
   ]
  },
  {
   "cell_type": "code",
   "execution_count": 12,
   "metadata": {},
   "outputs": [
    {
     "name": "stdout",
     "output_type": "stream",
     "text": [
      "Conventional FTS:\n",
      "A1 -> A1,A2\n",
      "A2 -> A1,A2,A3\n",
      "A3 -> A2,A3,A4\n",
      "A4 -> A3,A4,A5\n",
      "A5 -> A4,A5,A6\n",
      "A6 -> A5,A6,A7\n",
      "A7 -> A6,A7,A8\n",
      "A8 -> A7,A8,A9\n",
      "A9 -> A8,A9\n",
      "\n"
     ]
    }
   ],
   "source": [
    "from pyFTS.models import chen\n",
    "\n",
    "#Chen Fuzzy Time Series method\n",
    "model = chen.ConventionalFTS(partitioner=fs)\n",
    "model.fit(data)\n",
    "print(model)"
   ]
  },
  {
   "cell_type": "markdown",
   "metadata": {},
   "source": [
    "## Plot of the rules\n",
    "The rule set describes how our time series behaves and, if it was stationary enough (well behaved)"
   ]
  },
  {
   "cell_type": "code",
   "execution_count": 13,
   "metadata": {},
   "outputs": [
    {
     "data": {
      "image/png": "[encoded data removed]",
      "text/plain": [
       "<Figure size 1080x360 with 1 Axes>"
      ]
     },
     "metadata": {
      "needs_background": "light"
     },
     "output_type": "display_data"
    }
   ],
   "source": [
    "from pyFTS.common import Util\n",
    "\n",
    "Util.plot_rules(model, size=[15,5], rules_by_axis=10)"
   ]
  },
  {
   "cell_type": "markdown",
   "metadata": {},
   "source": [
    "## 6. Forecasting\n",
    "We will predict the next day Adj Close"
   ]
  },
  {
   "cell_type": "code",
   "execution_count": 14,
   "metadata": {},
   "outputs": [
    {
     "data": {
      "text/plain": [
       "<matplotlib.legend.Legend at 0x7f36382b9810>"
      ]
     },
     "execution_count": 14,
     "metadata": {},
     "output_type": "execute_result"
    },
    {
     "data": {
      "image/png": "[encoded data removed]",
      "text/plain": [
       "<Figure size 1080x360 with 1 Axes>"
      ]
     },
     "metadata": {
      "needs_background": "light"
     },
     "output_type": "display_data"
    }
   ],
   "source": [
    "fig, ax = plt.subplots(nrows=1, ncols=1, figsize=[15,5])\n",
    "\n",
    "#Prediction of the existing data agains the fuzzy model\n",
    "forecasts = model.predict(data)\n",
    "forecasts.insert(0,None)\n",
    "\n",
    "orig, = plt.plot(data, label=\"Original data\")\n",
    "pred, = plt.plot(forecasts, label=\"Forecasts\")\n",
    "\n",
    "plt.legend(handles=[orig, pred])"
   ]
  },
  {
   "cell_type": "markdown",
   "metadata": {},
   "source": [
    "Get the last day Adj Close to predict the following day(tomorrow)"
   ]
  },
  {
   "cell_type": "code",
   "execution_count": 15,
   "metadata": {},
   "outputs": [
    {
     "data": {
      "text/plain": [
       "[289.6774652099609]"
      ]
     },
     "execution_count": 15,
     "metadata": {},
     "output_type": "execute_result"
    }
   ],
   "source": [
    "model.predict([data[len(data)-1]])"
   ]
  },
  {
   "cell_type": "markdown",
   "metadata": {},
   "source": [
    "## 7. Conclusion\n",
    "The predicted price and the actual price of the stock are 289 are 284 respectively. Hence, it suggests that the model works really well in predicting the stock price of next day with high accuracy rate of over 95%."
   ]
  }
 ],
 "metadata": {
  "colab": {
   "name": "A short tutorial about Fuzzy Time Series",
   "provenance": [],
   "toc_visible": true,
   "version": "0.3.2"
  },
  "kernelspec": {
   "display_name": "Python 3",
   "language": "python",
   "name": "python3"
  },
  "language_info": {
   "codemirror_mode": {
    "name": "ipython",
    "version": 3
   },
   "file_extension": ".py",
   "mimetype": "text/x-python",
   "name": "python",
   "nbconvert_exporter": "python",
   "pygments_lexer": "ipython3",
   "version": "3.7.3"
  }
 },
 "nbformat": 4,
 "nbformat_minor": 1
}
